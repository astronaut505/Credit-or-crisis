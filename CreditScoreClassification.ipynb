{
 "cells": [
  {
   "cell_type": "code",
   "execution_count": 1,
   "metadata": {},
   "outputs": [
    {
     "ename": "ModuleNotFoundError",
     "evalue": "No module named 'sklearn'",
     "output_type": "error",
     "traceback": [
      "\u001b[1;31m---------------------------------------------------------------------------\u001b[0m",
      "\u001b[1;31mModuleNotFoundError\u001b[0m                       Traceback (most recent call last)",
      "\u001b[1;32mc:\\Users\\DR455894\\Documents\\GitHub\\Credit-or-crisis\\CreditScoreClassification.ipynb Cell 1\u001b[0m line \u001b[0;36m2\n\u001b[0;32m      <a href='vscode-notebook-cell:/c%3A/Users/DR455894/Documents/GitHub/Credit-or-crisis/CreditScoreClassification.ipynb#W0sZmlsZQ%3D%3D?line=0'>1</a>\u001b[0m \u001b[39mimport\u001b[39;00m \u001b[39mpandas\u001b[39;00m \u001b[39mas\u001b[39;00m \u001b[39mpd\u001b[39;00m\n\u001b[1;32m----> <a href='vscode-notebook-cell:/c%3A/Users/DR455894/Documents/GitHub/Credit-or-crisis/CreditScoreClassification.ipynb#W0sZmlsZQ%3D%3D?line=1'>2</a>\u001b[0m \u001b[39mfrom\u001b[39;00m \u001b[39msklearn\u001b[39;00m\u001b[39m.\u001b[39;00m\u001b[39mmodel_selection\u001b[39;00m \u001b[39mimport\u001b[39;00m train_test_split\n\u001b[0;32m      <a href='vscode-notebook-cell:/c%3A/Users/DR455894/Documents/GitHub/Credit-or-crisis/CreditScoreClassification.ipynb#W0sZmlsZQ%3D%3D?line=3'>4</a>\u001b[0m train_df \u001b[39m=\u001b[39m pd\u001b[39m.\u001b[39mread_csv(\u001b[39m'\u001b[39m\u001b[39mtrain.csv\u001b[39m\u001b[39m'\u001b[39m)\n\u001b[0;32m      <a href='vscode-notebook-cell:/c%3A/Users/DR455894/Documents/GitHub/Credit-or-crisis/CreditScoreClassification.ipynb#W0sZmlsZQ%3D%3D?line=4'>5</a>\u001b[0m test_df \u001b[39m=\u001b[39m pd\u001b[39m.\u001b[39mread_csv(\u001b[39m'\u001b[39m\u001b[39mtest.csv\u001b[39m\u001b[39m'\u001b[39m)\n",
      "\u001b[1;31mModuleNotFoundError\u001b[0m: No module named 'sklearn'"
     ]
    }
   ],
   "source": [
    "import pandas as pd\n",
    "from sklearn.model_selection import train_test_split\n",
    "\n",
    "train_df = pd.read_csv('train.csv')\n",
    "test_df = pd.read_csv('test.csv')\n",
    "\n",
    "df = pd.concat([train_df, test_df])\n",
    "\n",
    "df.head()"
   ]
  },
  {
   "cell_type": "code",
   "execution_count": null,
   "metadata": {},
   "outputs": [
    {
     "data": {
      "text/html": [
       "<div>\n",
       "<style scoped>\n",
       "    .dataframe tbody tr th:only-of-type {\n",
       "        vertical-align: middle;\n",
       "    }\n",
       "\n",
       "    .dataframe tbody tr th {\n",
       "        vertical-align: top;\n",
       "    }\n",
       "\n",
       "    .dataframe thead th {\n",
       "        text-align: right;\n",
       "    }\n",
       "</style>\n",
       "<table border=\"1\" class=\"dataframe\">\n",
       "  <thead>\n",
       "    <tr style=\"text-align: right;\">\n",
       "      <th></th>\n",
       "      <th>ID</th>\n",
       "      <th>Customer_ID</th>\n",
       "      <th>Month</th>\n",
       "      <th>Name</th>\n",
       "      <th>Age</th>\n",
       "      <th>SSN</th>\n",
       "      <th>Occupation</th>\n",
       "      <th>Annual_Income</th>\n",
       "      <th>Monthly_Inhand_Salary</th>\n",
       "      <th>Num_Bank_Accounts</th>\n",
       "      <th>...</th>\n",
       "      <th>Credit_Mix</th>\n",
       "      <th>Outstanding_Debt</th>\n",
       "      <th>Credit_Utilization_Ratio</th>\n",
       "      <th>Credit_History_Age</th>\n",
       "      <th>Payment_of_Min_Amount</th>\n",
       "      <th>Total_EMI_per_month</th>\n",
       "      <th>Amount_invested_monthly</th>\n",
       "      <th>Payment_Behaviour</th>\n",
       "      <th>Monthly_Balance</th>\n",
       "      <th>Credit_Score</th>\n",
       "    </tr>\n",
       "  </thead>\n",
       "  <tbody>\n",
       "    <tr>\n",
       "      <th>0</th>\n",
       "      <td>0x1602</td>\n",
       "      <td>CUS_0xd40</td>\n",
       "      <td>January</td>\n",
       "      <td>Aaron Maashoh</td>\n",
       "      <td>23</td>\n",
       "      <td>821-00-0265</td>\n",
       "      <td>Scientist</td>\n",
       "      <td>19114.12</td>\n",
       "      <td>1824.843333</td>\n",
       "      <td>3</td>\n",
       "      <td>...</td>\n",
       "      <td>_</td>\n",
       "      <td>809.98</td>\n",
       "      <td>26.822620</td>\n",
       "      <td>22 Years and 1 Months</td>\n",
       "      <td>No</td>\n",
       "      <td>49.574949</td>\n",
       "      <td>80.41529543900253</td>\n",
       "      <td>High_spent_Small_value_payments</td>\n",
       "      <td>312.49408867943663</td>\n",
       "      <td>Good</td>\n",
       "    </tr>\n",
       "    <tr>\n",
       "      <th>1</th>\n",
       "      <td>0x1603</td>\n",
       "      <td>CUS_0xd40</td>\n",
       "      <td>February</td>\n",
       "      <td>Aaron Maashoh</td>\n",
       "      <td>23</td>\n",
       "      <td>821-00-0265</td>\n",
       "      <td>Scientist</td>\n",
       "      <td>19114.12</td>\n",
       "      <td>NaN</td>\n",
       "      <td>3</td>\n",
       "      <td>...</td>\n",
       "      <td>Good</td>\n",
       "      <td>809.98</td>\n",
       "      <td>31.944960</td>\n",
       "      <td>NaN</td>\n",
       "      <td>No</td>\n",
       "      <td>49.574949</td>\n",
       "      <td>118.28022162236736</td>\n",
       "      <td>Low_spent_Large_value_payments</td>\n",
       "      <td>284.62916249607184</td>\n",
       "      <td>Good</td>\n",
       "    </tr>\n",
       "    <tr>\n",
       "      <th>2</th>\n",
       "      <td>0x1604</td>\n",
       "      <td>CUS_0xd40</td>\n",
       "      <td>March</td>\n",
       "      <td>Aaron Maashoh</td>\n",
       "      <td>-500</td>\n",
       "      <td>821-00-0265</td>\n",
       "      <td>Scientist</td>\n",
       "      <td>19114.12</td>\n",
       "      <td>NaN</td>\n",
       "      <td>3</td>\n",
       "      <td>...</td>\n",
       "      <td>Good</td>\n",
       "      <td>809.98</td>\n",
       "      <td>28.609352</td>\n",
       "      <td>22 Years and 3 Months</td>\n",
       "      <td>No</td>\n",
       "      <td>49.574949</td>\n",
       "      <td>81.699521264648</td>\n",
       "      <td>Low_spent_Medium_value_payments</td>\n",
       "      <td>331.2098628537912</td>\n",
       "      <td>Good</td>\n",
       "    </tr>\n",
       "    <tr>\n",
       "      <th>3</th>\n",
       "      <td>0x1605</td>\n",
       "      <td>CUS_0xd40</td>\n",
       "      <td>April</td>\n",
       "      <td>Aaron Maashoh</td>\n",
       "      <td>23</td>\n",
       "      <td>821-00-0265</td>\n",
       "      <td>Scientist</td>\n",
       "      <td>19114.12</td>\n",
       "      <td>NaN</td>\n",
       "      <td>3</td>\n",
       "      <td>...</td>\n",
       "      <td>Good</td>\n",
       "      <td>809.98</td>\n",
       "      <td>31.377862</td>\n",
       "      <td>22 Years and 4 Months</td>\n",
       "      <td>No</td>\n",
       "      <td>49.574949</td>\n",
       "      <td>199.4580743910713</td>\n",
       "      <td>Low_spent_Small_value_payments</td>\n",
       "      <td>223.45130972736786</td>\n",
       "      <td>Good</td>\n",
       "    </tr>\n",
       "    <tr>\n",
       "      <th>4</th>\n",
       "      <td>0x1606</td>\n",
       "      <td>CUS_0xd40</td>\n",
       "      <td>May</td>\n",
       "      <td>Aaron Maashoh</td>\n",
       "      <td>23</td>\n",
       "      <td>821-00-0265</td>\n",
       "      <td>Scientist</td>\n",
       "      <td>19114.12</td>\n",
       "      <td>1824.843333</td>\n",
       "      <td>3</td>\n",
       "      <td>...</td>\n",
       "      <td>Good</td>\n",
       "      <td>809.98</td>\n",
       "      <td>24.797347</td>\n",
       "      <td>22 Years and 5 Months</td>\n",
       "      <td>No</td>\n",
       "      <td>49.574949</td>\n",
       "      <td>41.420153086217326</td>\n",
       "      <td>High_spent_Medium_value_payments</td>\n",
       "      <td>341.48923103222177</td>\n",
       "      <td>Good</td>\n",
       "    </tr>\n",
       "  </tbody>\n",
       "</table>\n",
       "<p>5 rows × 28 columns</p>\n",
       "</div>"
      ],
      "text/plain": [
       "       ID Customer_ID     Month           Name   Age          SSN Occupation  \\\n",
       "0  0x1602   CUS_0xd40   January  Aaron Maashoh    23  821-00-0265  Scientist   \n",
       "1  0x1603   CUS_0xd40  February  Aaron Maashoh    23  821-00-0265  Scientist   \n",
       "2  0x1604   CUS_0xd40     March  Aaron Maashoh  -500  821-00-0265  Scientist   \n",
       "3  0x1605   CUS_0xd40     April  Aaron Maashoh    23  821-00-0265  Scientist   \n",
       "4  0x1606   CUS_0xd40       May  Aaron Maashoh    23  821-00-0265  Scientist   \n",
       "\n",
       "  Annual_Income  Monthly_Inhand_Salary  Num_Bank_Accounts  ...  Credit_Mix  \\\n",
       "0      19114.12            1824.843333                  3  ...           _   \n",
       "1      19114.12                    NaN                  3  ...        Good   \n",
       "2      19114.12                    NaN                  3  ...        Good   \n",
       "3      19114.12                    NaN                  3  ...        Good   \n",
       "4      19114.12            1824.843333                  3  ...        Good   \n",
       "\n",
       "   Outstanding_Debt Credit_Utilization_Ratio     Credit_History_Age  \\\n",
       "0            809.98                26.822620  22 Years and 1 Months   \n",
       "1            809.98                31.944960                    NaN   \n",
       "2            809.98                28.609352  22 Years and 3 Months   \n",
       "3            809.98                31.377862  22 Years and 4 Months   \n",
       "4            809.98                24.797347  22 Years and 5 Months   \n",
       "\n",
       "   Payment_of_Min_Amount Total_EMI_per_month Amount_invested_monthly  \\\n",
       "0                     No           49.574949       80.41529543900253   \n",
       "1                     No           49.574949      118.28022162236736   \n",
       "2                     No           49.574949         81.699521264648   \n",
       "3                     No           49.574949       199.4580743910713   \n",
       "4                     No           49.574949      41.420153086217326   \n",
       "\n",
       "                  Payment_Behaviour     Monthly_Balance Credit_Score  \n",
       "0   High_spent_Small_value_payments  312.49408867943663         Good  \n",
       "1    Low_spent_Large_value_payments  284.62916249607184         Good  \n",
       "2   Low_spent_Medium_value_payments   331.2098628537912         Good  \n",
       "3    Low_spent_Small_value_payments  223.45130972736786         Good  \n",
       "4  High_spent_Medium_value_payments  341.48923103222177         Good  \n",
       "\n",
       "[5 rows x 28 columns]"
      ]
     },
     "execution_count": 38,
     "metadata": {},
     "output_type": "execute_result"
    }
   ],
   "source": [
    "df.head()"
   ]
  },
  {
   "cell_type": "markdown",
   "metadata": {},
   "source": [
    "**1. Data Cleaning and Preprocessing:**\n",
    "So many missing values, we will need to treat each column depending on the nature of the data in each column and the overall context of your project."
   ]
  },
  {
   "cell_type": "code",
   "execution_count": null,
   "metadata": {},
   "outputs": [
    {
     "data": {
      "text/plain": [
       "Name                       15000\n",
       "Monthly_Inhand_Salary      22500\n",
       "Type_of_Loan               17112\n",
       "Num_of_Delayed_Payment     10500\n",
       "Num_Credit_Inquiries        3000\n",
       "Credit_History_Age         13500\n",
       "Amount_invested_monthly     6750\n",
       "Monthly_Balance             1762\n",
       "Credit_Score               50000\n",
       "dtype: int64"
      ]
     },
     "execution_count": 39,
     "metadata": {},
     "output_type": "execute_result"
    }
   ],
   "source": [
    "missing_values = df.isnull().sum()\n",
    "missing_values[missing_values > 0]"
   ]
  },
  {
   "cell_type": "code",
   "execution_count": null,
   "metadata": {},
   "outputs": [
    {
     "data": {
      "text/plain": [
       "(Name\n",
       " Stevex                66\n",
       " Langep                65\n",
       " Jessicad              59\n",
       " Vaughanl              58\n",
       " Raymondr              58\n",
       " Deepa Seetharamanm    58\n",
       " Jessica Wohlt         57\n",
       " Nicko                 57\n",
       " Ronald Groverk        56\n",
       " Jonesb                55\n",
       " Name: count, dtype: int64,\n",
       " 10139)"
      ]
     },
     "execution_count": 40,
     "metadata": {},
     "output_type": "execute_result"
    }
   ],
   "source": [
    "#<--Name-->\n",
    "name_value_counts = df['Name'].value_counts()\n",
    "top_names = name_value_counts.head(10)\n",
    "num_unique_names = df['Name'].nunique()\n",
    "\n",
    "df = df.copy()\n",
    "df['Name'].fillna('J. Doe', inplace=True)\n",
    "df['Name'].isnull().sum()\n",
    "\n",
    "top_names, num_unique_names\n"
   ]
  },
  {
   "cell_type": "code",
   "execution_count": null,
   "metadata": {},
   "outputs": [
    {
     "name": "stdout",
     "output_type": "stream",
     "text": [
      "count    127500.000000\n",
      "mean       4190.115139\n",
      "std        3180.489657\n",
      "min         303.645417\n",
      "25%        1625.265833\n",
      "50%        3091.000000\n",
      "75%        5948.454596\n",
      "max       15204.633333\n",
      "Name: Monthly_Inhand_Salary, dtype: float64\n"
     ]
    },
    {
     "data": {
      "text/plain": [
       "22500"
      ]
     },
     "execution_count": 41,
     "metadata": {},
     "output_type": "execute_result"
    }
   ],
   "source": [
    "# <--Monthly_Inhand_Salary--> cell 1\n",
    "salary_distribution = df['Monthly_Inhand_Salary'].describe()\n",
    "print(salary_distribution)\n",
    "\n",
    "df['Monthly_Inhand_Salary'].isna().sum()\n",
    "\n"
   ]
  },
  {
   "cell_type": "code",
   "execution_count": null,
   "metadata": {},
   "outputs": [
    {
     "data": {
      "text/plain": [
       "count    150000.000000\n",
       "mean       4025.247868\n",
       "std        2958.412598\n",
       "min         303.645417\n",
       "25%        1792.520417\n",
       "50%        3091.000000\n",
       "75%        5363.071667\n",
       "max       15204.633333\n",
       "Name: Monthly_Inhand_Salary, dtype: float64"
      ]
     },
     "execution_count": 42,
     "metadata": {},
     "output_type": "execute_result"
    }
   ],
   "source": [
    "# <--Monthly_Inhand_Salary--> cell 2\n",
    "median_salary = df['Monthly_Inhand_Salary'].median() #<--- given the distribution of the \"Monthly_Inhand_Salary\" column. see(Skewed Distribution, Range Values, Median value)\n",
    "df['Monthly_Inhand_Salary'].fillna(median_salary, inplace=True)\n",
    "salary_distribution = df['Monthly_Inhand_Salary'].describe()\n",
    "salary_distribution"
   ]
  },
  {
   "cell_type": "code",
   "execution_count": null,
   "metadata": {},
   "outputs": [
    {
     "data": {
      "text/plain": [
       "(Type_of_Loan\n",
       " Not Specified                      2112\n",
       " Credit-Builder Loan                1920\n",
       " Personal Loan                      1908\n",
       " Debt Consolidation Loan            1896\n",
       " Student Loan                       1860\n",
       " Payday Loan                        1800\n",
       " Mortgage Loan                      1764\n",
       " Auto Loan                          1728\n",
       " Home Equity Loan                   1704\n",
       " Personal Loan, and Student Loan     480\n",
       " Name: count, dtype: int64,\n",
       " 6260)"
      ]
     },
     "execution_count": 43,
     "metadata": {},
     "output_type": "execute_result"
    }
   ],
   "source": [
    "# <--Type of Loan-->\n",
    "loan_type_counts = df['Type_of_Loan'].value_counts()\n",
    "\n",
    "top_loan_types = loan_type_counts.head(10)\n",
    "num_unique_loan_types = df['Type_of_Loan'].nunique()\n",
    "\n",
    "df['Type_of_Loan'].isna().sum()\n",
    "\n",
    "\n",
    "df['Type_of_Loan'].fillna('Not Specified', inplace=True)   #<--- given the distribution of the \"Type_of_Loan\" column. see(Not Specified, Range Values)\n",
    "\n",
    "\n",
    "top_loan_types, num_unique_loan_types\n"
   ]
  },
  {
   "cell_type": "code",
   "execution_count": null,
   "metadata": {},
   "outputs": [
    {
     "data": {
      "text/plain": [
       "(dtype('O'),\n",
       " 14.336422664155652,\n",
       " count    135329.000000\n",
       " mean         30.937020\n",
       " std         224.723576\n",
       " min          -3.000000\n",
       " 25%           9.000000\n",
       " 50%          14.000000\n",
       " 75%          18.000000\n",
       " max        4399.000000\n",
       " Name: Num_of_Delayed_Payment, dtype: float64)"
      ]
     },
     "execution_count": 44,
     "metadata": {},
     "output_type": "execute_result"
    }
   ],
   "source": [
    "# <--Number of Delayed Payments-->\n",
    "data_type_delayed_payments = df['Num_of_Delayed_Payment'].dtype\n",
    "\n",
    "df['Num_of_Delayed_Payment'] = pd.to_numeric(df['Num_of_Delayed_Payment'], errors='coerce') #<--- numbers into numeric types\n",
    "skewness_delayed_payments = df['Num_of_Delayed_Payment'].skew()\n",
    "summary_delayed_payments = df['Num_of_Delayed_Payment'].describe()\n",
    "\n",
    "data_type_delayed_payments, skewness_delayed_payments, summary_delayed_payments\n"
   ]
  },
  {
   "cell_type": "code",
   "execution_count": null,
   "metadata": {},
   "outputs": [
    {
     "data": {
      "text/plain": [
       "count    150000.000000\n",
       "mean         13.443027\n",
       "std           5.947961\n",
       "min           0.000000\n",
       "25%           9.000000\n",
       "50%          14.000000\n",
       "75%          18.000000\n",
       "max          24.000000\n",
       "Name: Num_of_Delayed_Payment, dtype: float64"
      ]
     },
     "execution_count": 45,
     "metadata": {},
     "output_type": "execute_result"
    }
   ],
   "source": [
    "# <--Number of Delayed Payments--> cell 2\n",
    "df['Num_of_Delayed_Payment'] = df['Num_of_Delayed_Payment'].apply(lambda x: 0 if x < 0 else x)\n",
    "\n",
    "percentile_95 = df['Num_of_Delayed_Payment'].quantile(0.95)  #<--- reducing the impact of extreme outliers\n",
    "df['Num_of_Delayed_Payment'] = df['Num_of_Delayed_Payment'].apply(lambda x: percentile_95 if x > percentile_95 else x)\n",
    "\n",
    "median_delayed_payments = df['Num_of_Delayed_Payment'].median()\n",
    "df['Num_of_Delayed_Payment'].fillna(median_delayed_payments, inplace=True)\n",
    "\n",
    "new_summary_delayed_payments = df['Num_of_Delayed_Payment'].describe()\n",
    "new_summary_delayed_payments\n"
   ]
  },
  {
   "cell_type": "code",
   "execution_count": null,
   "metadata": {},
   "outputs": [
    {
     "data": {
      "text/plain": [
       "(9.718317423718114,\n",
       " count    147000.000000\n",
       " mean         28.529014\n",
       " std         194.456058\n",
       " min           0.000000\n",
       " 25%           3.000000\n",
       " 50%           6.000000\n",
       " 75%           9.000000\n",
       " max        2597.000000\n",
       " Name: Num_Credit_Inquiries, dtype: float64)"
      ]
     },
     "execution_count": 46,
     "metadata": {},
     "output_type": "execute_result"
    }
   ],
   "source": [
    "# <--Number of Credit inquires --> cell 1\n",
    "skewness_credit_inquiries = df['Num_Credit_Inquiries'].skew()\n",
    "distribution_credit_inquiries = df['Num_Credit_Inquiries'].describe()\n",
    "\n",
    "skewness_credit_inquiries, distribution_credit_inquiries\n"
   ]
  },
  {
   "cell_type": "code",
   "execution_count": null,
   "metadata": {},
   "outputs": [
    {
     "data": {
      "text/plain": [
       "(count    150000.000000\n",
       " mean          6.365160\n",
       " std           3.918386\n",
       " min           0.000000\n",
       " 25%           3.000000\n",
       " 50%           6.000000\n",
       " 75%           9.000000\n",
       " max          14.000000\n",
       " Name: Num_Credit_Inquiries, dtype: float64,\n",
       " 9.718317423718114)"
      ]
     },
     "execution_count": 47,
     "metadata": {},
     "output_type": "execute_result"
    }
   ],
   "source": [
    "# <--Number of Credit inquires --> cell 2\n",
    "\n",
    "# <- 9.72 Skewness, highly right skewed, and precense of outliers\n",
    "df['Num_Credit_Inquiries'] = df['Num_Credit_Inquiries'].apply(lambda x: 0 if x < 0 else x)\n",
    "new_skewness_credit_inquiries2 = df['Num_Credit_Inquiries'].skew()\n",
    "\n",
    "percentile_95_inquiries = df['Num_Credit_Inquiries'].quantile(0.95)\n",
    "df['Num_Credit_Inquiries'] = df['Num_Credit_Inquiries'].apply(lambda x: percentile_95_inquiries if x > percentile_95_inquiries else x)\n",
    "\n",
    "median_credit_inquiries = df['Num_Credit_Inquiries'].median()\n",
    "df['Num_Credit_Inquiries'].fillna(median_credit_inquiries, inplace=True)\n",
    "\n",
    "new_summary_credit_inquiries = df['Num_Credit_Inquiries'].describe()\n",
    "new_summary_credit_inquiries, new_skewness_credit_inquiries2\n"
   ]
  },
  {
   "cell_type": "code",
   "execution_count": null,
   "metadata": {},
   "outputs": [
    {
     "data": {
      "text/plain": [
       "(count    136500.000000\n",
       " mean        223.215326\n",
       " std          99.719548\n",
       " min           1.000000\n",
       " 25%         146.000000\n",
       " 50%         222.000000\n",
       " 75%         304.000000\n",
       " max         408.000000\n",
       " Name: Credit_History_Age, dtype: float64,\n",
       " -0.048023953162607956)"
      ]
     },
     "execution_count": 48,
     "metadata": {},
     "output_type": "execute_result"
    }
   ],
   "source": [
    "# <--Years of Credit History--> cell 1\n",
    "\n",
    "def convert_to_total_months(age_str):\n",
    "    if pd.isna(age_str):\n",
    "        return None\n",
    "    parts = age_str.split(' ')\n",
    "    years = int(parts[0]) if parts[0].isdigit() else 0\n",
    "    months = int(parts[3]) if len(parts) > 3 and parts[3].isdigit() else 0\n",
    "    return years * 12 + months\n",
    "\n",
    "df['Credit_History_Age'] = df['Credit_History_Age'].apply(convert_to_total_months)\n",
    "credit_history_age_skewness = df['Credit_History_Age'].skew()\n",
    "credit_history_age_distribution = df['Credit_History_Age'].describe()\n",
    "credit_history_age_distribution, credit_history_age_skewness\n",
    "\n"
   ]
  },
  {
   "cell_type": "code",
   "execution_count": null,
   "metadata": {},
   "outputs": [
    {
     "data": {
      "text/plain": [
       "(count    150000.000000\n",
       " mean        223.105947\n",
       " std          95.126991\n",
       " min           1.000000\n",
       " 25%         156.000000\n",
       " 50%         222.000000\n",
       " 75%         294.000000\n",
       " max         408.000000\n",
       " Name: Credit_History_Age, dtype: float64,\n",
       " -0.04689238942885576)"
      ]
     },
     "execution_count": 49,
     "metadata": {},
     "output_type": "execute_result"
    }
   ],
   "source": [
    "# <--Years of Credit History--> cell 2\n",
    "median_credit_history = df['Credit_History_Age'].median()\n",
    "df['Credit_History_Age'].fillna(median_credit_history, inplace=True)\n",
    "new_skewness_credit_history = df['Credit_History_Age'].skew()\n",
    "new_summary_credit_history = df['Credit_History_Age'].describe()\n",
    "new_summary_credit_history, new_skewness_credit_history"
   ]
  },
  {
   "cell_type": "code",
   "execution_count": null,
   "metadata": {},
   "outputs": [
    {
     "data": {
      "text/plain": [
       "(count    136770.000000\n",
       " mean        195.305028\n",
       " std         198.599612\n",
       " min           0.000000\n",
       " 25%          72.232194\n",
       " 50%         128.984784\n",
       " 75%         236.844304\n",
       " max        1977.326102\n",
       " Name: Amount_invested_monthly, dtype: float64,\n",
       " 2.5295788801444172)"
      ]
     },
     "execution_count": 50,
     "metadata": {},
     "output_type": "execute_result"
    }
   ],
   "source": [
    "# <-- Amount invested monthly --> cell 1\n",
    "# convert  to a numeric format\n",
    "df['Amount_invested_monthly'] = pd.to_numeric(df['Amount_invested_monthly'], errors='coerce')\n",
    "\n",
    "amount_invested_distribution = df['Amount_invested_monthly'].describe()\n",
    "amount_invested_skewness = df['Amount_invested_monthly'].skew()\n",
    "amount_invested_distribution, amount_invested_skewness\n"
   ]
  },
  {
   "cell_type": "code",
   "execution_count": null,
   "metadata": {},
   "outputs": [
    {
     "data": {
      "text/plain": [
       "(count    150000.000000\n",
       " mean        189.455583\n",
       " std         190.569511\n",
       " min           0.000000\n",
       " 25%          77.018550\n",
       " 50%         128.984784\n",
       " 75%         220.228565\n",
       " max        1977.326102\n",
       " Name: Amount_invested_monthly, dtype: float64,\n",
       " 2.6988854845756545)"
      ]
     },
     "execution_count": 51,
     "metadata": {},
     "output_type": "execute_result"
    }
   ],
   "source": [
    "# <-- Amount invested monthly --> cell 2\n",
    "median_amount_invested = df['Amount_invested_monthly'].median()\n",
    "df['Amount_invested_monthly'].fillna(median_amount_invested, inplace=True)\n",
    "\n",
    "new_summary_amount_invested = df['Amount_invested_monthly'].describe()\n",
    "new_skewness_amount_invested = df['Amount_invested_monthly'].skew()\n",
    "new_summary_amount_invested, new_skewness_amount_invested\n"
   ]
  },
  {
   "cell_type": "code",
   "execution_count": null,
   "metadata": {},
   "outputs": [
    {
     "data": {
      "text/plain": [
       "(count    148223.000000\n",
       " mean        402.723009\n",
       " std         213.844776\n",
       " min           0.007760\n",
       " 25%         270.241882\n",
       " 50%         336.815865\n",
       " 75%         470.477895\n",
       " max        1606.518192\n",
       " Name: Monthly_Balance, dtype: float64,\n",
       " 1.5905121038295311,\n",
       " 148224)"
      ]
     },
     "execution_count": 52,
     "metadata": {},
     "output_type": "execute_result"
    }
   ],
   "source": [
    "# <-- Monthly balance --> cell 1\n",
    "unique = df['Monthly_Balance'].nunique()\n",
    "unique\n",
    "\n",
    "# converted to a numeric format\n",
    "df['Monthly_Balance'] = pd.to_numeric(df['Monthly_Balance'], errors='coerce')\n",
    "\n",
    "monthly_balance_distribution = df['Monthly_Balance'].describe()\n",
    "monthly_balance_skewness = df['Monthly_Balance'].skew()\n",
    "monthly_balance_distribution, monthly_balance_skewness, unique\n"
   ]
  },
  {
   "cell_type": "code",
   "execution_count": null,
   "metadata": {},
   "outputs": [
    {
     "data": {
      "text/plain": [
       "(count    150000.000000\n",
       " mean        401.942229\n",
       " std         212.693891\n",
       " min           0.007760\n",
       " 25%         270.971064\n",
       " 50%         336.815865\n",
       " 75%         467.988694\n",
       " max        1606.518192\n",
       " Name: Monthly_Balance, dtype: float64,\n",
       " 1.6079810825933205)"
      ]
     },
     "execution_count": 53,
     "metadata": {},
     "output_type": "execute_result"
    }
   ],
   "source": [
    "# <-- Monthly balance --> cell 2\n",
    "median_monthly_balance = df['Monthly_Balance'].median()\n",
    "df['Monthly_Balance'].fillna(median_monthly_balance, inplace=True)\n",
    "\n",
    "new_summary_monthly_balance = df['Monthly_Balance'].describe()\n",
    "new_skewness_monthly_balance = df['Monthly_Balance'].skew()\n",
    "new_summary_monthly_balance, new_skewness_monthly_balance\n"
   ]
  },
  {
   "cell_type": "code",
   "execution_count": null,
   "metadata": {},
   "outputs": [
    {
     "data": {
      "text/plain": [
       "(count       100000\n",
       " unique           3\n",
       " top       Standard\n",
       " freq         53174\n",
       " Name: Credit_Score, dtype: object,\n",
       " 50000)"
      ]
     },
     "execution_count": 54,
     "metadata": {},
     "output_type": "execute_result"
    }
   ],
   "source": [
    "# <-- Credit Score -->\n",
    "checktarget = df['Credit_Score'].isnull().sum()\n",
    "target = df['Credit_Score'].describe()\n",
    "target, checktarget\n",
    "\n",
    "# I realized that the Credit_Score column values from test set were NaN, so I will split the data into train and test sets based on the Credit_Score column\n"
   ]
  },
  {
   "cell_type": "code",
   "execution_count": null,
   "metadata": {},
   "outputs": [
    {
     "data": {
      "text/plain": [
       "Credit_Score    50000\n",
       "dtype: int64"
      ]
     },
     "execution_count": 55,
     "metadata": {},
     "output_type": "execute_result"
    }
   ],
   "source": [
    "missing_values_train = df.isnull().sum()\n",
    "missing_values_train[missing_values_train > 0]"
   ]
  },
  {
   "cell_type": "code",
   "execution_count": null,
   "metadata": {},
   "outputs": [
    {
     "data": {
      "text/plain": [
       "Index(['ID', 'Customer_ID', 'Month', 'Name', 'Age', 'SSN', 'Occupation',\n",
       "       'Annual_Income', 'Monthly_Inhand_Salary', 'Num_Bank_Accounts',\n",
       "       'Num_Credit_Card', 'Interest_Rate', 'Num_of_Loan', 'Type_of_Loan',\n",
       "       'Delay_from_due_date', 'Num_of_Delayed_Payment', 'Changed_Credit_Limit',\n",
       "       'Num_Credit_Inquiries', 'Credit_Mix', 'Outstanding_Debt',\n",
       "       'Credit_Utilization_Ratio', 'Credit_History_Age',\n",
       "       'Payment_of_Min_Amount', 'Total_EMI_per_month',\n",
       "       'Amount_invested_monthly', 'Payment_Behaviour', 'Monthly_Balance',\n",
       "       'Credit_Score'],\n",
       "      dtype='object')"
      ]
     },
     "execution_count": 56,
     "metadata": {},
     "output_type": "execute_result"
    }
   ],
   "source": [
    "df.columns"
   ]
  },
  {
   "cell_type": "markdown",
   "metadata": {},
   "source": [
    "**1. Data Cleaning and Preprocessing:** Moving into converting categorical data into more suitable format"
   ]
  },
  {
   "cell_type": "code",
   "execution_count": null,
   "metadata": {},
   "outputs": [
    {
     "data": {
      "text/plain": [
       "({'ID': 150000,\n",
       "  'Customer_ID': 12500,\n",
       "  'Month': 12,\n",
       "  'Name': 10140,\n",
       "  'Age': 2524,\n",
       "  'SSN': 12501,\n",
       "  'Occupation': 16,\n",
       "  'Annual_Income': 21192,\n",
       "  'Num_of_Loan': 623,\n",
       "  'Type_of_Loan': 6260,\n",
       "  'Changed_Credit_Limit': 4605,\n",
       "  'Credit_Mix': 4,\n",
       "  'Outstanding_Debt': 13622,\n",
       "  'Payment_of_Min_Amount': 3,\n",
       "  'Payment_Behaviour': 7,\n",
       "  'Credit_Score': 3},\n",
       "             ID Customer_ID    Month    Name     Age        SSN Occupation  \\\n",
       " count   150000      150000   150000  150000  150000     150000     150000   \n",
       " unique  150000       12500       12   10140    2524      12501         16   \n",
       " top     0x1602   CUS_0xd40  January  J. Doe      39  #F%$D@*&8    _______   \n",
       " freq         1          12    12500   15000    4198       8400      10500   \n",
       " \n",
       "        Annual_Income Num_of_Loan   Type_of_Loan Changed_Credit_Limit  \\\n",
       " count         150000      150000         150000               150000   \n",
       " unique         21192         623           6260                 4605   \n",
       " top         36585.12           3  Not Specified                    _   \n",
       " freq              24       21500          19224                 3150   \n",
       " \n",
       "        Credit_Mix Outstanding_Debt Payment_of_Min_Amount  \\\n",
       " count      150000           150000                150000   \n",
       " unique          4            13622                     3   \n",
       " top      Standard          1360.45                   Yes   \n",
       " freq        54858               36                 78484   \n",
       " \n",
       "                      Payment_Behaviour Credit_Score  \n",
       " count                           150000       100000  \n",
       " unique                               7            3  \n",
       " top     Low_spent_Small_value_payments     Standard  \n",
       " freq                             38207        53174  )"
      ]
     },
     "execution_count": 62,
     "metadata": {},
     "output_type": "execute_result"
    }
   ],
   "source": [
    "# Listing categorical columns in the dataset\n",
    "categorical_columns = df.select_dtypes(include=['object', 'category']).columns\n",
    "categorical_collumns_head = df.select_dtypes(include=['object', 'category']).describe()\n",
    "# Displaying the categorical columns and the number of unique values in each\n",
    "categorical_columns_summary = {col: df[col].nunique() for col in categorical_columns}\n",
    "categorical_columns_summary, categorical_collumns_head"
   ]
  },
  {
   "cell_type": "code",
   "execution_count": null,
   "metadata": {},
   "outputs": [],
   "source": []
  }
 ],
 "metadata": {
  "kernelspec": {
   "display_name": "Python 3",
   "language": "python",
   "name": "python3"
  },
  "language_info": {
   "codemirror_mode": {
    "name": "ipython",
    "version": 3
   },
   "file_extension": ".py",
   "mimetype": "text/x-python",
   "name": "python",
   "nbconvert_exporter": "python",
   "pygments_lexer": "ipython3",
   "version": "3.11.5"
  }
 },
 "nbformat": 4,
 "nbformat_minor": 2
}
