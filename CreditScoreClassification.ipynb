{
 "cells": [
  {
   "cell_type": "code",
   "execution_count": 49,
   "metadata": {},
   "outputs": [
    {
     "name": "stderr",
     "output_type": "stream",
     "text": [
      "C:\\Users\\Me\\AppData\\Local\\Temp\\ipykernel_15272\\2550281946.py:6: DtypeWarning: Columns (26) have mixed types. Specify dtype option on import or set low_memory=False.\n",
      "  train_df = pd.read_csv('data/train.csv')\n"
     ]
    },
    {
     "data": {
      "text/html": [
       "<div>\n",
       "<style scoped>\n",
       "    .dataframe tbody tr th:only-of-type {\n",
       "        vertical-align: middle;\n",
       "    }\n",
       "\n",
       "    .dataframe tbody tr th {\n",
       "        vertical-align: top;\n",
       "    }\n",
       "\n",
       "    .dataframe thead th {\n",
       "        text-align: right;\n",
       "    }\n",
       "</style>\n",
       "<table border=\"1\" class=\"dataframe\">\n",
       "  <thead>\n",
       "    <tr style=\"text-align: right;\">\n",
       "      <th></th>\n",
       "      <th>ID</th>\n",
       "      <th>Customer_ID</th>\n",
       "      <th>Month</th>\n",
       "      <th>Name</th>\n",
       "      <th>Age</th>\n",
       "      <th>SSN</th>\n",
       "      <th>Occupation</th>\n",
       "      <th>Annual_Income</th>\n",
       "      <th>Monthly_Inhand_Salary</th>\n",
       "      <th>Num_Bank_Accounts</th>\n",
       "      <th>...</th>\n",
       "      <th>Credit_Mix</th>\n",
       "      <th>Outstanding_Debt</th>\n",
       "      <th>Credit_Utilization_Ratio</th>\n",
       "      <th>Credit_History_Age</th>\n",
       "      <th>Payment_of_Min_Amount</th>\n",
       "      <th>Total_EMI_per_month</th>\n",
       "      <th>Amount_invested_monthly</th>\n",
       "      <th>Payment_Behaviour</th>\n",
       "      <th>Monthly_Balance</th>\n",
       "      <th>Credit_Score</th>\n",
       "    </tr>\n",
       "  </thead>\n",
       "  <tbody>\n",
       "    <tr>\n",
       "      <th>0</th>\n",
       "      <td>0x1602</td>\n",
       "      <td>CUS_0xd40</td>\n",
       "      <td>January</td>\n",
       "      <td>Aaron Maashoh</td>\n",
       "      <td>23</td>\n",
       "      <td>821-00-0265</td>\n",
       "      <td>Scientist</td>\n",
       "      <td>19114.12</td>\n",
       "      <td>1824.843333</td>\n",
       "      <td>3</td>\n",
       "      <td>...</td>\n",
       "      <td>_</td>\n",
       "      <td>809.98</td>\n",
       "      <td>26.822620</td>\n",
       "      <td>22 Years and 1 Months</td>\n",
       "      <td>No</td>\n",
       "      <td>49.574949</td>\n",
       "      <td>80.41529543900253</td>\n",
       "      <td>High_spent_Small_value_payments</td>\n",
       "      <td>312.49408867943663</td>\n",
       "      <td>Good</td>\n",
       "    </tr>\n",
       "    <tr>\n",
       "      <th>1</th>\n",
       "      <td>0x1603</td>\n",
       "      <td>CUS_0xd40</td>\n",
       "      <td>February</td>\n",
       "      <td>Aaron Maashoh</td>\n",
       "      <td>23</td>\n",
       "      <td>821-00-0265</td>\n",
       "      <td>Scientist</td>\n",
       "      <td>19114.12</td>\n",
       "      <td>NaN</td>\n",
       "      <td>3</td>\n",
       "      <td>...</td>\n",
       "      <td>Good</td>\n",
       "      <td>809.98</td>\n",
       "      <td>31.944960</td>\n",
       "      <td>NaN</td>\n",
       "      <td>No</td>\n",
       "      <td>49.574949</td>\n",
       "      <td>118.28022162236736</td>\n",
       "      <td>Low_spent_Large_value_payments</td>\n",
       "      <td>284.62916249607184</td>\n",
       "      <td>Good</td>\n",
       "    </tr>\n",
       "    <tr>\n",
       "      <th>2</th>\n",
       "      <td>0x1604</td>\n",
       "      <td>CUS_0xd40</td>\n",
       "      <td>March</td>\n",
       "      <td>Aaron Maashoh</td>\n",
       "      <td>-500</td>\n",
       "      <td>821-00-0265</td>\n",
       "      <td>Scientist</td>\n",
       "      <td>19114.12</td>\n",
       "      <td>NaN</td>\n",
       "      <td>3</td>\n",
       "      <td>...</td>\n",
       "      <td>Good</td>\n",
       "      <td>809.98</td>\n",
       "      <td>28.609352</td>\n",
       "      <td>22 Years and 3 Months</td>\n",
       "      <td>No</td>\n",
       "      <td>49.574949</td>\n",
       "      <td>81.699521264648</td>\n",
       "      <td>Low_spent_Medium_value_payments</td>\n",
       "      <td>331.2098628537912</td>\n",
       "      <td>Good</td>\n",
       "    </tr>\n",
       "    <tr>\n",
       "      <th>3</th>\n",
       "      <td>0x1605</td>\n",
       "      <td>CUS_0xd40</td>\n",
       "      <td>April</td>\n",
       "      <td>Aaron Maashoh</td>\n",
       "      <td>23</td>\n",
       "      <td>821-00-0265</td>\n",
       "      <td>Scientist</td>\n",
       "      <td>19114.12</td>\n",
       "      <td>NaN</td>\n",
       "      <td>3</td>\n",
       "      <td>...</td>\n",
       "      <td>Good</td>\n",
       "      <td>809.98</td>\n",
       "      <td>31.377862</td>\n",
       "      <td>22 Years and 4 Months</td>\n",
       "      <td>No</td>\n",
       "      <td>49.574949</td>\n",
       "      <td>199.4580743910713</td>\n",
       "      <td>Low_spent_Small_value_payments</td>\n",
       "      <td>223.45130972736786</td>\n",
       "      <td>Good</td>\n",
       "    </tr>\n",
       "    <tr>\n",
       "      <th>4</th>\n",
       "      <td>0x1606</td>\n",
       "      <td>CUS_0xd40</td>\n",
       "      <td>May</td>\n",
       "      <td>Aaron Maashoh</td>\n",
       "      <td>23</td>\n",
       "      <td>821-00-0265</td>\n",
       "      <td>Scientist</td>\n",
       "      <td>19114.12</td>\n",
       "      <td>1824.843333</td>\n",
       "      <td>3</td>\n",
       "      <td>...</td>\n",
       "      <td>Good</td>\n",
       "      <td>809.98</td>\n",
       "      <td>24.797347</td>\n",
       "      <td>22 Years and 5 Months</td>\n",
       "      <td>No</td>\n",
       "      <td>49.574949</td>\n",
       "      <td>41.420153086217326</td>\n",
       "      <td>High_spent_Medium_value_payments</td>\n",
       "      <td>341.48923103222177</td>\n",
       "      <td>Good</td>\n",
       "    </tr>\n",
       "  </tbody>\n",
       "</table>\n",
       "<p>5 rows × 28 columns</p>\n",
       "</div>"
      ],
      "text/plain": [
       "       ID Customer_ID     Month           Name   Age          SSN Occupation  \\\n",
       "0  0x1602   CUS_0xd40   January  Aaron Maashoh    23  821-00-0265  Scientist   \n",
       "1  0x1603   CUS_0xd40  February  Aaron Maashoh    23  821-00-0265  Scientist   \n",
       "2  0x1604   CUS_0xd40     March  Aaron Maashoh  -500  821-00-0265  Scientist   \n",
       "3  0x1605   CUS_0xd40     April  Aaron Maashoh    23  821-00-0265  Scientist   \n",
       "4  0x1606   CUS_0xd40       May  Aaron Maashoh    23  821-00-0265  Scientist   \n",
       "\n",
       "  Annual_Income  Monthly_Inhand_Salary  Num_Bank_Accounts  ...  Credit_Mix  \\\n",
       "0      19114.12            1824.843333                  3  ...           _   \n",
       "1      19114.12                    NaN                  3  ...        Good   \n",
       "2      19114.12                    NaN                  3  ...        Good   \n",
       "3      19114.12                    NaN                  3  ...        Good   \n",
       "4      19114.12            1824.843333                  3  ...        Good   \n",
       "\n",
       "   Outstanding_Debt Credit_Utilization_Ratio     Credit_History_Age  \\\n",
       "0            809.98                26.822620  22 Years and 1 Months   \n",
       "1            809.98                31.944960                    NaN   \n",
       "2            809.98                28.609352  22 Years and 3 Months   \n",
       "3            809.98                31.377862  22 Years and 4 Months   \n",
       "4            809.98                24.797347  22 Years and 5 Months   \n",
       "\n",
       "   Payment_of_Min_Amount Total_EMI_per_month Amount_invested_monthly  \\\n",
       "0                     No           49.574949       80.41529543900253   \n",
       "1                     No           49.574949      118.28022162236736   \n",
       "2                     No           49.574949         81.699521264648   \n",
       "3                     No           49.574949       199.4580743910713   \n",
       "4                     No           49.574949      41.420153086217326   \n",
       "\n",
       "                  Payment_Behaviour     Monthly_Balance Credit_Score  \n",
       "0   High_spent_Small_value_payments  312.49408867943663         Good  \n",
       "1    Low_spent_Large_value_payments  284.62916249607184         Good  \n",
       "2   Low_spent_Medium_value_payments   331.2098628537912         Good  \n",
       "3    Low_spent_Small_value_payments  223.45130972736786         Good  \n",
       "4  High_spent_Medium_value_payments  341.48923103222177         Good  \n",
       "\n",
       "[5 rows x 28 columns]"
      ]
     },
     "execution_count": 49,
     "metadata": {},
     "output_type": "execute_result"
    }
   ],
   "source": [
    "import pandas as pd\n",
    "from sklearn.model_selection import train_test_split\n",
    "from sklearn.preprocessing import LabelEncoder\n",
    "from sklearn.preprocessing import MultiLabelBinarizer\n",
    "\n",
    "train_df = pd.read_csv('data/train.csv')\n",
    "test_df = pd.read_csv('data/test.csv')\n",
    "\n",
    "df = pd.concat([train_df, test_df])\n",
    "\n",
    "df.head()"
   ]
  },
  {
   "cell_type": "code",
   "execution_count": 50,
   "metadata": {},
   "outputs": [
    {
     "data": {
      "text/plain": [
       "Index(['ID', 'Customer_ID', 'Month', 'Name', 'Age', 'SSN', 'Occupation',\n",
       "       'Annual_Income', 'Monthly_Inhand_Salary', 'Num_Bank_Accounts',\n",
       "       'Num_Credit_Card', 'Interest_Rate', 'Num_of_Loan', 'Type_of_Loan',\n",
       "       'Delay_from_due_date', 'Num_of_Delayed_Payment', 'Changed_Credit_Limit',\n",
       "       'Num_Credit_Inquiries', 'Credit_Mix', 'Outstanding_Debt',\n",
       "       'Credit_Utilization_Ratio', 'Credit_History_Age',\n",
       "       'Payment_of_Min_Amount', 'Total_EMI_per_month',\n",
       "       'Amount_invested_monthly', 'Payment_Behaviour', 'Monthly_Balance',\n",
       "       'Credit_Score'],\n",
       "      dtype='object')"
      ]
     },
     "execution_count": 50,
     "metadata": {},
     "output_type": "execute_result"
    }
   ],
   "source": [
    "df.columns"
   ]
  },
  {
   "cell_type": "markdown",
   "metadata": {},
   "source": [
    "**1. Data Cleaning and Preprocessing:**\n",
    "So many missing values, we will need to treat each column depending on the nature of the data in each column and the overall context of your project."
   ]
  },
  {
   "cell_type": "code",
   "execution_count": 51,
   "metadata": {},
   "outputs": [
    {
     "data": {
      "text/plain": [
       "Name                       15000\n",
       "Monthly_Inhand_Salary      22500\n",
       "Type_of_Loan               17112\n",
       "Num_of_Delayed_Payment     10500\n",
       "Num_Credit_Inquiries        3000\n",
       "Credit_History_Age         13500\n",
       "Amount_invested_monthly     6750\n",
       "Monthly_Balance             1762\n",
       "Credit_Score               50000\n",
       "dtype: int64"
      ]
     },
     "execution_count": 51,
     "metadata": {},
     "output_type": "execute_result"
    }
   ],
   "source": [
    "missing_values = df.isnull().sum()\n",
    "missing_values[missing_values > 0]"
   ]
  },
  {
   "cell_type": "code",
   "execution_count": 52,
   "metadata": {},
   "outputs": [
    {
     "data": {
      "text/plain": [
       "(Name\n",
       " Stevex                66\n",
       " Langep                65\n",
       " Jessicad              59\n",
       " Vaughanl              58\n",
       " Raymondr              58\n",
       " Deepa Seetharamanm    58\n",
       " Jessica Wohlt         57\n",
       " Nicko                 57\n",
       " Ronald Groverk        56\n",
       " Jonesb                55\n",
       " Name: count, dtype: int64,\n",
       " 10139)"
      ]
     },
     "execution_count": 52,
     "metadata": {},
     "output_type": "execute_result"
    }
   ],
   "source": [
    "#<--Name-->\n",
    "name_value_counts = df['Name'].value_counts()\n",
    "top_names = name_value_counts.head(10)\n",
    "num_unique_names = df['Name'].nunique()\n",
    "\n",
    "df = df.copy()\n",
    "df['Name'].fillna('J. Doe', inplace=True)\n",
    "df['Name'].isnull().sum()\n",
    "\n",
    "top_names, num_unique_names\n"
   ]
  },
  {
   "cell_type": "code",
   "execution_count": 53,
   "metadata": {},
   "outputs": [
    {
     "name": "stdout",
     "output_type": "stream",
     "text": [
      "count    127500.000000\n",
      "mean       4190.115139\n",
      "std        3180.489657\n",
      "min         303.645417\n",
      "25%        1625.265833\n",
      "50%        3091.000000\n",
      "75%        5948.454596\n",
      "max       15204.633333\n",
      "Name: Monthly_Inhand_Salary, dtype: float64\n"
     ]
    },
    {
     "data": {
      "text/plain": [
       "22500"
      ]
     },
     "execution_count": 53,
     "metadata": {},
     "output_type": "execute_result"
    }
   ],
   "source": [
    "# <--Monthly_Inhand_Salary--> cell 1\n",
    "salary_distribution = df['Monthly_Inhand_Salary'].describe()\n",
    "print(salary_distribution)\n",
    "\n",
    "df['Monthly_Inhand_Salary'].isna().sum()\n",
    "\n"
   ]
  },
  {
   "cell_type": "code",
   "execution_count": 54,
   "metadata": {},
   "outputs": [
    {
     "data": {
      "text/plain": [
       "count    150000.000000\n",
       "mean       4025.247868\n",
       "std        2958.412598\n",
       "min         303.645417\n",
       "25%        1792.520417\n",
       "50%        3091.000000\n",
       "75%        5363.071667\n",
       "max       15204.633333\n",
       "Name: Monthly_Inhand_Salary, dtype: float64"
      ]
     },
     "execution_count": 54,
     "metadata": {},
     "output_type": "execute_result"
    }
   ],
   "source": [
    "# <--Monthly_Inhand_Salary--> cell 2\n",
    "median_salary = df['Monthly_Inhand_Salary'].median() #<--- given the distribution of the \"Monthly_Inhand_Salary\" column. see(Skewed Distribution, Range Values, Median value)\n",
    "df['Monthly_Inhand_Salary'].fillna(median_salary, inplace=True)\n",
    "salary_distribution = df['Monthly_Inhand_Salary'].describe()\n",
    "salary_distribution"
   ]
  },
  {
   "cell_type": "code",
   "execution_count": 55,
   "metadata": {},
   "outputs": [
    {
     "data": {
      "text/plain": [
       "0    1824.843333\n",
       "1    3091.000000\n",
       "2    3091.000000\n",
       "3    3091.000000\n",
       "4    1824.843333\n",
       "Name: Monthly_Inhand_Salary, dtype: float64"
      ]
     },
     "execution_count": 55,
     "metadata": {},
     "output_type": "execute_result"
    }
   ],
   "source": [
    "df['Monthly_Inhand_Salary'].head()"
   ]
  },
  {
   "cell_type": "code",
   "execution_count": 56,
   "metadata": {},
   "outputs": [
    {
     "data": {
      "text/plain": [
       "(Type_of_Loan\n",
       " Not Specified                      2112\n",
       " Credit-Builder Loan                1920\n",
       " Personal Loan                      1908\n",
       " Debt Consolidation Loan            1896\n",
       " Student Loan                       1860\n",
       " Payday Loan                        1800\n",
       " Mortgage Loan                      1764\n",
       " Auto Loan                          1728\n",
       " Home Equity Loan                   1704\n",
       " Personal Loan, and Student Loan     480\n",
       " Name: count, dtype: int64,\n",
       " 6260)"
      ]
     },
     "execution_count": 56,
     "metadata": {},
     "output_type": "execute_result"
    }
   ],
   "source": [
    "# <--Type of Loan-->\n",
    "loan_type_counts = df['Type_of_Loan'].value_counts()\n",
    "\n",
    "top_loan_types = loan_type_counts.head(10)\n",
    "num_unique_loan_types = df['Type_of_Loan'].nunique()\n",
    "\n",
    "df['Type_of_Loan'].isna().sum()\n",
    "\n",
    "\n",
    "df['Type_of_Loan'].fillna('Not Specified', inplace=True)   #<--- given the distribution of the \"Type_of_Loan\" column. see(Not Specified, Range Values)\n",
    "\n",
    "\n",
    "top_loan_types, num_unique_loan_types\n"
   ]
  },
  {
   "cell_type": "code",
   "execution_count": 57,
   "metadata": {},
   "outputs": [
    {
     "data": {
      "text/plain": [
       "(dtype('O'),\n",
       " 14.336422664155652,\n",
       " count    135329.000000\n",
       " mean         30.937020\n",
       " std         224.723576\n",
       " min          -3.000000\n",
       " 25%           9.000000\n",
       " 50%          14.000000\n",
       " 75%          18.000000\n",
       " max        4399.000000\n",
       " Name: Num_of_Delayed_Payment, dtype: float64)"
      ]
     },
     "execution_count": 57,
     "metadata": {},
     "output_type": "execute_result"
    }
   ],
   "source": [
    "# <--Number of Delayed Payments-->\n",
    "data_type_delayed_payments = df['Num_of_Delayed_Payment'].dtype\n",
    "\n",
    "df['Num_of_Delayed_Payment'] = pd.to_numeric(df['Num_of_Delayed_Payment'], errors='coerce') #<--- numbers into numeric types\n",
    "skewness_delayed_payments = df['Num_of_Delayed_Payment'].skew()\n",
    "summary_delayed_payments = df['Num_of_Delayed_Payment'].describe()\n",
    "\n",
    "data_type_delayed_payments, skewness_delayed_payments, summary_delayed_payments\n"
   ]
  },
  {
   "cell_type": "code",
   "execution_count": 58,
   "metadata": {},
   "outputs": [
    {
     "data": {
      "text/plain": [
       "count    150000.000000\n",
       "mean         13.443027\n",
       "std           5.947961\n",
       "min           0.000000\n",
       "25%           9.000000\n",
       "50%          14.000000\n",
       "75%          18.000000\n",
       "max          24.000000\n",
       "Name: Num_of_Delayed_Payment, dtype: float64"
      ]
     },
     "execution_count": 58,
     "metadata": {},
     "output_type": "execute_result"
    }
   ],
   "source": [
    "# <--Number of Delayed Payments--> cell 2\n",
    "df['Num_of_Delayed_Payment'] = df['Num_of_Delayed_Payment'].apply(lambda x: 0 if x < 0 else x)\n",
    "\n",
    "percentile_95 = df['Num_of_Delayed_Payment'].quantile(0.95)  #<--- reducing the impact of extreme outliers\n",
    "df['Num_of_Delayed_Payment'] = df['Num_of_Delayed_Payment'].apply(lambda x: percentile_95 if x > percentile_95 else x)\n",
    "\n",
    "median_delayed_payments = df['Num_of_Delayed_Payment'].median()\n",
    "df['Num_of_Delayed_Payment'].fillna(median_delayed_payments, inplace=True)\n",
    "\n",
    "new_summary_delayed_payments = df['Num_of_Delayed_Payment'].describe()\n",
    "new_summary_delayed_payments\n"
   ]
  },
  {
   "cell_type": "code",
   "execution_count": 59,
   "metadata": {},
   "outputs": [
    {
     "data": {
      "text/plain": [
       "(9.718317423718114,\n",
       " count    147000.000000\n",
       " mean         28.529014\n",
       " std         194.456058\n",
       " min           0.000000\n",
       " 25%           3.000000\n",
       " 50%           6.000000\n",
       " 75%           9.000000\n",
       " max        2597.000000\n",
       " Name: Num_Credit_Inquiries, dtype: float64)"
      ]
     },
     "execution_count": 59,
     "metadata": {},
     "output_type": "execute_result"
    }
   ],
   "source": [
    "# <--Number of Credit inquires --> cell 1\n",
    "skewness_credit_inquiries = df['Num_Credit_Inquiries'].skew()\n",
    "distribution_credit_inquiries = df['Num_Credit_Inquiries'].describe()\n",
    "\n",
    "skewness_credit_inquiries, distribution_credit_inquiries\n"
   ]
  },
  {
   "cell_type": "code",
   "execution_count": 60,
   "metadata": {},
   "outputs": [
    {
     "data": {
      "text/plain": [
       "(count    150000.000000\n",
       " mean          6.365160\n",
       " std           3.918386\n",
       " min           0.000000\n",
       " 25%           3.000000\n",
       " 50%           6.000000\n",
       " 75%           9.000000\n",
       " max          14.000000\n",
       " Name: Num_Credit_Inquiries, dtype: float64,\n",
       " 9.718317423718114)"
      ]
     },
     "execution_count": 60,
     "metadata": {},
     "output_type": "execute_result"
    }
   ],
   "source": [
    "# <--Number of Credit inquires --> cell 2\n",
    "\n",
    "# <- 9.72 Skewness, highly right skewed, and precense of outliers\n",
    "df['Num_Credit_Inquiries'] = df['Num_Credit_Inquiries'].apply(lambda x: 0 if x < 0 else x)\n",
    "new_skewness_credit_inquiries2 = df['Num_Credit_Inquiries'].skew()\n",
    "\n",
    "percentile_95_inquiries = df['Num_Credit_Inquiries'].quantile(0.95)\n",
    "df['Num_Credit_Inquiries'] = df['Num_Credit_Inquiries'].apply(lambda x: percentile_95_inquiries if x > percentile_95_inquiries else x)\n",
    "\n",
    "median_credit_inquiries = df['Num_Credit_Inquiries'].median()\n",
    "df['Num_Credit_Inquiries'].fillna(median_credit_inquiries, inplace=True)\n",
    "\n",
    "new_summary_credit_inquiries = df['Num_Credit_Inquiries'].describe()\n",
    "new_summary_credit_inquiries, new_skewness_credit_inquiries2\n"
   ]
  },
  {
   "cell_type": "code",
   "execution_count": 61,
   "metadata": {},
   "outputs": [
    {
     "data": {
      "text/plain": [
       "(count    136500.000000\n",
       " mean        223.215326\n",
       " std          99.719548\n",
       " min           1.000000\n",
       " 25%         146.000000\n",
       " 50%         222.000000\n",
       " 75%         304.000000\n",
       " max         408.000000\n",
       " Name: Credit_History_Age, dtype: float64,\n",
       " -0.048023953162607956)"
      ]
     },
     "execution_count": 61,
     "metadata": {},
     "output_type": "execute_result"
    }
   ],
   "source": [
    "# <--Years of Credit History--> cell 1\n",
    "\n",
    "def convert_to_total_months(age_str):\n",
    "    if pd.isna(age_str):\n",
    "        return None\n",
    "    parts = age_str.split(' ')\n",
    "    years = int(parts[0]) if parts[0].isdigit() else 0\n",
    "    months = int(parts[3]) if len(parts) > 3 and parts[3].isdigit() else 0\n",
    "    return years * 12 + months\n",
    "\n",
    "df['Credit_History_Age'] = df['Credit_History_Age'].apply(convert_to_total_months)\n",
    "credit_history_age_skewness = df['Credit_History_Age'].skew()\n",
    "credit_history_age_distribution = df['Credit_History_Age'].describe()\n",
    "credit_history_age_distribution, credit_history_age_skewness\n",
    "\n"
   ]
  },
  {
   "cell_type": "code",
   "execution_count": 62,
   "metadata": {},
   "outputs": [
    {
     "data": {
      "text/plain": [
       "(count    150000.000000\n",
       " mean        223.105947\n",
       " std          95.126991\n",
       " min           1.000000\n",
       " 25%         156.000000\n",
       " 50%         222.000000\n",
       " 75%         294.000000\n",
       " max         408.000000\n",
       " Name: Credit_History_Age, dtype: float64,\n",
       " -0.04689238942885576)"
      ]
     },
     "execution_count": 62,
     "metadata": {},
     "output_type": "execute_result"
    }
   ],
   "source": [
    "# <--Years of Credit History--> cell 2\n",
    "median_credit_history = df['Credit_History_Age'].median()\n",
    "df['Credit_History_Age'].fillna(median_credit_history, inplace=True)\n",
    "new_skewness_credit_history = df['Credit_History_Age'].skew()\n",
    "new_summary_credit_history = df['Credit_History_Age'].describe()\n",
    "new_summary_credit_history, new_skewness_credit_history"
   ]
  },
  {
   "cell_type": "code",
   "execution_count": 63,
   "metadata": {},
   "outputs": [
    {
     "data": {
      "text/plain": [
       "(count    136770.000000\n",
       " mean        195.305028\n",
       " std         198.599612\n",
       " min           0.000000\n",
       " 25%          72.232194\n",
       " 50%         128.984784\n",
       " 75%         236.844304\n",
       " max        1977.326102\n",
       " Name: Amount_invested_monthly, dtype: float64,\n",
       " 2.5295788801444172)"
      ]
     },
     "execution_count": 63,
     "metadata": {},
     "output_type": "execute_result"
    }
   ],
   "source": [
    "# <-- Amount invested monthly --> cell 1\n",
    "# convert  to a numeric format\n",
    "df['Amount_invested_monthly'] = pd.to_numeric(df['Amount_invested_monthly'], errors='coerce')\n",
    "\n",
    "amount_invested_distribution = df['Amount_invested_monthly'].describe()\n",
    "amount_invested_skewness = df['Amount_invested_monthly'].skew()\n",
    "amount_invested_distribution, amount_invested_skewness\n"
   ]
  },
  {
   "cell_type": "code",
   "execution_count": 64,
   "metadata": {},
   "outputs": [
    {
     "data": {
      "text/plain": [
       "(count    150000.000000\n",
       " mean        189.455583\n",
       " std         190.569511\n",
       " min           0.000000\n",
       " 25%          77.018550\n",
       " 50%         128.984784\n",
       " 75%         220.228565\n",
       " max        1977.326102\n",
       " Name: Amount_invested_monthly, dtype: float64,\n",
       " 2.6988854845756545)"
      ]
     },
     "execution_count": 64,
     "metadata": {},
     "output_type": "execute_result"
    }
   ],
   "source": [
    "# <-- Amount invested monthly --> cell 2\n",
    "median_amount_invested = df['Amount_invested_monthly'].median()\n",
    "df['Amount_invested_monthly'].fillna(median_amount_invested, inplace=True)\n",
    "\n",
    "new_summary_amount_invested = df['Amount_invested_monthly'].describe()\n",
    "new_skewness_amount_invested = df['Amount_invested_monthly'].skew()\n",
    "new_summary_amount_invested, new_skewness_amount_invested\n"
   ]
  },
  {
   "cell_type": "code",
   "execution_count": 65,
   "metadata": {},
   "outputs": [
    {
     "data": {
      "text/plain": [
       "(count    148223.000000\n",
       " mean        402.723009\n",
       " std         213.844776\n",
       " min           0.007760\n",
       " 25%         270.241882\n",
       " 50%         336.815865\n",
       " 75%         470.477895\n",
       " max        1606.518192\n",
       " Name: Monthly_Balance, dtype: float64,\n",
       " 1.5905121038295311,\n",
       " 148224)"
      ]
     },
     "execution_count": 65,
     "metadata": {},
     "output_type": "execute_result"
    }
   ],
   "source": [
    "# <-- Monthly balance --> cell 1\n",
    "unique = df['Monthly_Balance'].nunique()\n",
    "unique\n",
    "\n",
    "# converted to a numeric format\n",
    "df['Monthly_Balance'] = pd.to_numeric(df['Monthly_Balance'], errors='coerce')\n",
    "\n",
    "monthly_balance_distribution = df['Monthly_Balance'].describe()\n",
    "monthly_balance_skewness = df['Monthly_Balance'].skew()\n",
    "monthly_balance_distribution, monthly_balance_skewness, unique\n"
   ]
  },
  {
   "cell_type": "code",
   "execution_count": 66,
   "metadata": {},
   "outputs": [
    {
     "data": {
      "text/plain": [
       "(count    150000.000000\n",
       " mean        401.942229\n",
       " std         212.693891\n",
       " min           0.007760\n",
       " 25%         270.971064\n",
       " 50%         336.815865\n",
       " 75%         467.988694\n",
       " max        1606.518192\n",
       " Name: Monthly_Balance, dtype: float64,\n",
       " 1.6079810825933205)"
      ]
     },
     "execution_count": 66,
     "metadata": {},
     "output_type": "execute_result"
    }
   ],
   "source": [
    "# <-- Monthly balance --> cell 2\n",
    "median_monthly_balance = df['Monthly_Balance'].median()\n",
    "df['Monthly_Balance'].fillna(median_monthly_balance, inplace=True)\n",
    "\n",
    "new_summary_monthly_balance = df['Monthly_Balance'].describe()\n",
    "new_skewness_monthly_balance = df['Monthly_Balance'].skew()\n",
    "new_summary_monthly_balance, new_skewness_monthly_balance\n"
   ]
  },
  {
   "cell_type": "code",
   "execution_count": 67,
   "metadata": {},
   "outputs": [
    {
     "data": {
      "text/plain": [
       "(count       100000\n",
       " unique           3\n",
       " top       Standard\n",
       " freq         53174\n",
       " Name: Credit_Score, dtype: object,\n",
       " 50000)"
      ]
     },
     "execution_count": 67,
     "metadata": {},
     "output_type": "execute_result"
    }
   ],
   "source": [
    "# <-- Credit Score -->\n",
    "checktarget = df['Credit_Score'].isnull().sum()\n",
    "target = df['Credit_Score'].describe()\n",
    "target, checktarget\n",
    "\n",
    "# I realized that the Credit_Score column values from test set were NaN, so I will split the data into train and test sets based on the Credit_Score column\n"
   ]
  },
  {
   "cell_type": "code",
   "execution_count": 68,
   "metadata": {},
   "outputs": [
    {
     "data": {
      "text/plain": [
       "Credit_Score    50000\n",
       "dtype: int64"
      ]
     },
     "execution_count": 68,
     "metadata": {},
     "output_type": "execute_result"
    }
   ],
   "source": [
    "missing_values = df.isnull().sum()\n",
    "missing_values[missing_values > 0] #<--- missing values are from test dataset which we merged with train dataset"
   ]
  },
  {
   "cell_type": "markdown",
   "metadata": {},
   "source": [
    "**1. Data Cleaning and Preprocessing:** Moving into converting categorical data into more suitable format"
   ]
  },
  {
   "cell_type": "code",
   "execution_count": 69,
   "metadata": {},
   "outputs": [
    {
     "data": {
      "text/plain": [
       "Index(['Month', 'Age', 'Occupation', 'Annual_Income', 'Monthly_Inhand_Salary',\n",
       "       'Num_Bank_Accounts', 'Num_Credit_Card', 'Interest_Rate', 'Num_of_Loan',\n",
       "       'Type_of_Loan', 'Delay_from_due_date', 'Num_of_Delayed_Payment',\n",
       "       'Changed_Credit_Limit', 'Num_Credit_Inquiries', 'Credit_Mix',\n",
       "       'Outstanding_Debt', 'Credit_Utilization_Ratio', 'Credit_History_Age',\n",
       "       'Payment_of_Min_Amount', 'Total_EMI_per_month',\n",
       "       'Amount_invested_monthly', 'Payment_Behaviour', 'Monthly_Balance',\n",
       "       'Credit_Score'],\n",
       "      dtype='object')"
      ]
     },
     "execution_count": 69,
     "metadata": {},
     "output_type": "execute_result"
    }
   ],
   "source": [
    "columns_to_drop = ['ID', 'Customer_ID', 'Name', 'SSN']\n",
    "df = df.drop(columns=columns_to_drop) #<--- dropping columns that are not needed\n",
    "df.columns"
   ]
  },
  {
   "cell_type": "code",
   "execution_count": 70,
   "metadata": {},
   "outputs": [
    {
     "data": {
      "text/plain": [
       "({'Month': 12,\n",
       "  'Age': 2524,\n",
       "  'Occupation': 16,\n",
       "  'Annual_Income': 21192,\n",
       "  'Num_of_Loan': 623,\n",
       "  'Type_of_Loan': 6260,\n",
       "  'Changed_Credit_Limit': 4605,\n",
       "  'Credit_Mix': 4,\n",
       "  'Outstanding_Debt': 13622,\n",
       "  'Payment_of_Min_Amount': 3,\n",
       "  'Payment_Behaviour': 7,\n",
       "  'Credit_Score': 3},\n",
       "           Month     Age Occupation Annual_Income Num_of_Loan   Type_of_Loan  \\\n",
       " count    150000  150000     150000        150000      150000         150000   \n",
       " unique       12    2524         16         21192         623           6260   \n",
       " top     January      39    _______      36585.12           3  Not Specified   \n",
       " freq      12500    4198      10500            24       21500          19224   \n",
       " \n",
       "        Changed_Credit_Limit Credit_Mix Outstanding_Debt Payment_of_Min_Amount  \\\n",
       " count                150000     150000           150000                150000   \n",
       " unique                 4605          4            13622                     3   \n",
       " top                       _   Standard          1360.45                   Yes   \n",
       " freq                   3150      54858               36                 78484   \n",
       " \n",
       "                      Payment_Behaviour Credit_Score  \n",
       " count                           150000       100000  \n",
       " unique                               7            3  \n",
       " top     Low_spent_Small_value_payments     Standard  \n",
       " freq                             38207        53174  )"
      ]
     },
     "execution_count": 70,
     "metadata": {},
     "output_type": "execute_result"
    }
   ],
   "source": [
    "categorical_columns = df.select_dtypes(include=['object', 'category']).columns\n",
    "categorical_collumns_head = df.select_dtypes(include=['object', 'category']).describe()\n",
    "categorical_columns_summary = {col: df[col].nunique() for col in categorical_columns}\n",
    "categorical_columns_summary, categorical_collumns_head"
   ]
  },
  {
   "cell_type": "code",
   "execution_count": 71,
   "metadata": {},
   "outputs": [],
   "source": [
    "nominal_columns = ['Month', 'Occupation', 'Credit_Mix', 'Payment_Behaviour'] #<--- nominal columns\n",
    "df = pd.get_dummies(df, columns=nominal_columns)\n",
    "\n",
    "label_encoder = LabelEncoder() #<--- ordinal columns\n",
    "df['Payment_of_Min_Amount'] = label_encoder.fit_transform(df['Payment_of_Min_Amount'])\n",
    "\n",
    "numerical_columns = ['Age', 'Annual_Income', 'Monthly_Inhand_Salary', 'Num_Bank_Accounts', 'Num_Credit_Card', 'Interest_Rate', 'Num_of_Loan', 'Delay_from_due_date', 'Num_of_Delayed_Payment', 'Num_Credit_Inquiries', 'Outstanding_Debt', 'Credit_Utilization_Ratio', 'Credit_History_Age', 'Total_EMI_per_month', 'Amount_invested_monthly', 'Monthly_Balance'] #<--- numerical columns\n",
    "df[numerical_columns] = df[numerical_columns].apply(pd.to_numeric, errors='coerce')\n",
    "\n"
   ]
  },
  {
   "cell_type": "code",
   "execution_count": 72,
   "metadata": {},
   "outputs": [
    {
     "data": {
      "text/html": [
       "<div>\n",
       "<style scoped>\n",
       "    .dataframe tbody tr th:only-of-type {\n",
       "        vertical-align: middle;\n",
       "    }\n",
       "\n",
       "    .dataframe tbody tr th {\n",
       "        vertical-align: top;\n",
       "    }\n",
       "\n",
       "    .dataframe thead th {\n",
       "        text-align: right;\n",
       "    }\n",
       "</style>\n",
       "<table border=\"1\" class=\"dataframe\">\n",
       "  <thead>\n",
       "    <tr style=\"text-align: right;\">\n",
       "      <th></th>\n",
       "      <th>Age</th>\n",
       "      <th>Annual_Income</th>\n",
       "      <th>Monthly_Inhand_Salary</th>\n",
       "      <th>Num_Bank_Accounts</th>\n",
       "      <th>Num_Credit_Card</th>\n",
       "      <th>Interest_Rate</th>\n",
       "      <th>Num_of_Loan</th>\n",
       "      <th>Delay_from_due_date</th>\n",
       "      <th>Num_of_Delayed_Payment</th>\n",
       "      <th>Changed_Credit_Limit</th>\n",
       "      <th>...</th>\n",
       "      <th>Payment_Behaviour_Low_spent_Small_value_payments</th>\n",
       "      <th>Auto Loan</th>\n",
       "      <th>Credit-Builder Loan</th>\n",
       "      <th>Debt Consolidation Loan</th>\n",
       "      <th>Home Equity Loan</th>\n",
       "      <th>Mortgage Loan</th>\n",
       "      <th>Not Specified</th>\n",
       "      <th>Payday Loan</th>\n",
       "      <th>Personal Loan</th>\n",
       "      <th>Student Loan</th>\n",
       "    </tr>\n",
       "  </thead>\n",
       "  <tbody>\n",
       "    <tr>\n",
       "      <th>0</th>\n",
       "      <td>23.0</td>\n",
       "      <td>19114.12</td>\n",
       "      <td>1824.843333</td>\n",
       "      <td>3</td>\n",
       "      <td>4</td>\n",
       "      <td>3</td>\n",
       "      <td>4.0</td>\n",
       "      <td>3</td>\n",
       "      <td>7.0</td>\n",
       "      <td>11.27</td>\n",
       "      <td>...</td>\n",
       "      <td>False</td>\n",
       "      <td>1</td>\n",
       "      <td>1</td>\n",
       "      <td>0</td>\n",
       "      <td>1</td>\n",
       "      <td>0</td>\n",
       "      <td>0</td>\n",
       "      <td>0</td>\n",
       "      <td>1</td>\n",
       "      <td>0</td>\n",
       "    </tr>\n",
       "    <tr>\n",
       "      <th>0</th>\n",
       "      <td>23.0</td>\n",
       "      <td>19114.12</td>\n",
       "      <td>1824.843333</td>\n",
       "      <td>3</td>\n",
       "      <td>4</td>\n",
       "      <td>3</td>\n",
       "      <td>4.0</td>\n",
       "      <td>3</td>\n",
       "      <td>7.0</td>\n",
       "      <td>11.27</td>\n",
       "      <td>...</td>\n",
       "      <td>True</td>\n",
       "      <td>1</td>\n",
       "      <td>1</td>\n",
       "      <td>0</td>\n",
       "      <td>1</td>\n",
       "      <td>0</td>\n",
       "      <td>0</td>\n",
       "      <td>0</td>\n",
       "      <td>1</td>\n",
       "      <td>0</td>\n",
       "    </tr>\n",
       "    <tr>\n",
       "      <th>1</th>\n",
       "      <td>23.0</td>\n",
       "      <td>19114.12</td>\n",
       "      <td>3091.000000</td>\n",
       "      <td>3</td>\n",
       "      <td>4</td>\n",
       "      <td>3</td>\n",
       "      <td>4.0</td>\n",
       "      <td>-1</td>\n",
       "      <td>14.0</td>\n",
       "      <td>11.27</td>\n",
       "      <td>...</td>\n",
       "      <td>False</td>\n",
       "      <td>1</td>\n",
       "      <td>1</td>\n",
       "      <td>0</td>\n",
       "      <td>1</td>\n",
       "      <td>0</td>\n",
       "      <td>0</td>\n",
       "      <td>0</td>\n",
       "      <td>1</td>\n",
       "      <td>0</td>\n",
       "    </tr>\n",
       "    <tr>\n",
       "      <th>1</th>\n",
       "      <td>24.0</td>\n",
       "      <td>19114.12</td>\n",
       "      <td>1824.843333</td>\n",
       "      <td>3</td>\n",
       "      <td>4</td>\n",
       "      <td>3</td>\n",
       "      <td>4.0</td>\n",
       "      <td>3</td>\n",
       "      <td>9.0</td>\n",
       "      <td>13.27</td>\n",
       "      <td>...</td>\n",
       "      <td>False</td>\n",
       "      <td>1</td>\n",
       "      <td>1</td>\n",
       "      <td>0</td>\n",
       "      <td>1</td>\n",
       "      <td>0</td>\n",
       "      <td>0</td>\n",
       "      <td>0</td>\n",
       "      <td>1</td>\n",
       "      <td>0</td>\n",
       "    </tr>\n",
       "    <tr>\n",
       "      <th>2</th>\n",
       "      <td>-500.0</td>\n",
       "      <td>19114.12</td>\n",
       "      <td>3091.000000</td>\n",
       "      <td>3</td>\n",
       "      <td>4</td>\n",
       "      <td>3</td>\n",
       "      <td>4.0</td>\n",
       "      <td>3</td>\n",
       "      <td>7.0</td>\n",
       "      <td>_</td>\n",
       "      <td>...</td>\n",
       "      <td>False</td>\n",
       "      <td>1</td>\n",
       "      <td>1</td>\n",
       "      <td>0</td>\n",
       "      <td>1</td>\n",
       "      <td>0</td>\n",
       "      <td>0</td>\n",
       "      <td>0</td>\n",
       "      <td>1</td>\n",
       "      <td>0</td>\n",
       "    </tr>\n",
       "  </tbody>\n",
       "</table>\n",
       "<p>5 rows × 67 columns</p>\n",
       "</div>"
      ],
      "text/plain": [
       "     Age  Annual_Income  Monthly_Inhand_Salary  Num_Bank_Accounts  \\\n",
       "0   23.0       19114.12            1824.843333                  3   \n",
       "0   23.0       19114.12            1824.843333                  3   \n",
       "1   23.0       19114.12            3091.000000                  3   \n",
       "1   24.0       19114.12            1824.843333                  3   \n",
       "2 -500.0       19114.12            3091.000000                  3   \n",
       "\n",
       "   Num_Credit_Card  Interest_Rate  Num_of_Loan  Delay_from_due_date  \\\n",
       "0                4              3          4.0                    3   \n",
       "0                4              3          4.0                    3   \n",
       "1                4              3          4.0                   -1   \n",
       "1                4              3          4.0                    3   \n",
       "2                4              3          4.0                    3   \n",
       "\n",
       "   Num_of_Delayed_Payment Changed_Credit_Limit  ...  \\\n",
       "0                     7.0                11.27  ...   \n",
       "0                     7.0                11.27  ...   \n",
       "1                    14.0                11.27  ...   \n",
       "1                     9.0                13.27  ...   \n",
       "2                     7.0                    _  ...   \n",
       "\n",
       "   Payment_Behaviour_Low_spent_Small_value_payments  Auto Loan  \\\n",
       "0                                             False          1   \n",
       "0                                              True          1   \n",
       "1                                             False          1   \n",
       "1                                             False          1   \n",
       "2                                             False          1   \n",
       "\n",
       "   Credit-Builder Loan  Debt Consolidation Loan  Home Equity Loan  \\\n",
       "0                    1                        0                 1   \n",
       "0                    1                        0                 1   \n",
       "1                    1                        0                 1   \n",
       "1                    1                        0                 1   \n",
       "2                    1                        0                 1   \n",
       "\n",
       "   Mortgage Loan  Not Specified  Payday Loan Personal Loan  Student Loan  \n",
       "0              0              0            0             1             0  \n",
       "0              0              0            0             1             0  \n",
       "1              0              0            0             1             0  \n",
       "1              0              0            0             1             0  \n",
       "2              0              0            0             1             0  \n",
       "\n",
       "[5 rows x 67 columns]"
      ]
     },
     "execution_count": 72,
     "metadata": {},
     "output_type": "execute_result"
    }
   ],
   "source": [
    "df['Type_of_Loan'] = df['Type_of_Loan'].str.replace('and ', '').str.split(', ')\n",
    "\n",
    "mlb = MultiLabelBinarizer()\n",
    "\n",
    "loan_types_encoded = mlb.fit_transform(df['Type_of_Loan']) #<--- multilabel binarizer. Type_of_Loan column has multiple values per row. e.g (Auto Loan, Credit-Builder Loan, Personal Loan, and Home Equity Loan)\n",
    "loan_types_df = pd.DataFrame(loan_types_encoded, columns=mlb.classes_)\n",
    "\n",
    "df = df.join(loan_types_df)\n",
    "\n",
    "df.drop('Type_of_Loan', axis=1, inplace=True)\n",
    "\n",
    "df.head()"
   ]
  },
  {
   "cell_type": "code",
   "execution_count": 73,
   "metadata": {},
   "outputs": [
    {
     "data": {
      "text/plain": [
       "Index(['Age', 'Annual_Income', 'Monthly_Inhand_Salary', 'Num_Bank_Accounts',\n",
       "       'Num_Credit_Card', 'Interest_Rate', 'Num_of_Loan',\n",
       "       'Delay_from_due_date', 'Num_of_Delayed_Payment', 'Changed_Credit_Limit',\n",
       "       'Num_Credit_Inquiries', 'Outstanding_Debt', 'Credit_Utilization_Ratio',\n",
       "       'Credit_History_Age', 'Payment_of_Min_Amount', 'Total_EMI_per_month',\n",
       "       'Amount_invested_monthly', 'Monthly_Balance', 'Credit_Score',\n",
       "       'Month_April', 'Month_August', 'Month_December', 'Month_February',\n",
       "       'Month_January', 'Month_July', 'Month_June', 'Month_March', 'Month_May',\n",
       "       'Month_November', 'Month_October', 'Month_September',\n",
       "       'Occupation_Accountant', 'Occupation_Architect', 'Occupation_Developer',\n",
       "       'Occupation_Doctor', 'Occupation_Engineer', 'Occupation_Entrepreneur',\n",
       "       'Occupation_Journalist', 'Occupation_Lawyer', 'Occupation_Manager',\n",
       "       'Occupation_Mechanic', 'Occupation_Media_Manager',\n",
       "       'Occupation_Musician', 'Occupation_Scientist', 'Occupation_Teacher',\n",
       "       'Occupation_Writer', 'Occupation________', 'Credit_Mix_Bad',\n",
       "       'Credit_Mix_Good', 'Credit_Mix_Standard', 'Credit_Mix__',\n",
       "       'Payment_Behaviour_!@9#%8',\n",
       "       'Payment_Behaviour_High_spent_Large_value_payments',\n",
       "       'Payment_Behaviour_High_spent_Medium_value_payments',\n",
       "       'Payment_Behaviour_High_spent_Small_value_payments',\n",
       "       'Payment_Behaviour_Low_spent_Large_value_payments',\n",
       "       'Payment_Behaviour_Low_spent_Medium_value_payments',\n",
       "       'Payment_Behaviour_Low_spent_Small_value_payments', 'Auto Loan',\n",
       "       'Credit-Builder Loan', 'Debt Consolidation Loan', 'Home Equity Loan',\n",
       "       'Mortgage Loan', 'Not Specified', 'Payday Loan', 'Personal Loan',\n",
       "       'Student Loan'],\n",
       "      dtype='object')"
      ]
     },
     "execution_count": 73,
     "metadata": {},
     "output_type": "execute_result"
    }
   ],
   "source": [
    "df.columns"
   ]
  },
  {
   "cell_type": "code",
   "execution_count": null,
   "metadata": {},
   "outputs": [],
   "source": []
  },
  {
   "cell_type": "code",
   "execution_count": 74,
   "metadata": {},
   "outputs": [
    {
     "data": {
      "text/plain": [
       "(Occupation________\n",
       " False    139500\n",
       " True      10500\n",
       " Name: count, dtype: int64,\n",
       " Credit_Mix__\n",
       " False    120000\n",
       " True      30000\n",
       " Name: count, dtype: int64)"
      ]
     },
     "execution_count": 74,
     "metadata": {},
     "output_type": "execute_result"
    }
   ],
   "source": [
    "occupation_placeholder_values = df['Occupation________'].value_counts()\n",
    "credit_mix_placeholder_values = df['Credit_Mix__'].value_counts()\n",
    "\n",
    "occupation_placeholder_values, credit_mix_placeholder_values"
   ]
  },
  {
   "cell_type": "code",
   "execution_count": 75,
   "metadata": {},
   "outputs": [
    {
     "data": {
      "text/plain": [
       "True"
      ]
     },
     "execution_count": 75,
     "metadata": {},
     "output_type": "execute_result"
    }
   ],
   "source": [
    "df.rename(columns={'Occupation________': 'Occupation_Unknown'}, inplace=True) #<--- some values in the Occupation column are missing, so I will replace them with 'Unknown'. I still want to keep unknown values as a separate category.\n",
    "df['Occupation_Unknown'].describe()\n",
    "\n",
    "occupation_columns = [col for col in df.columns if col.startswith('Occupation_')] #<--- Here we check that when 'Occupation_Unknown' is False, at least one other occupation column is True\n",
    "check_occupation = df[~df['Occupation_Unknown']].apply(lambda x: x[occupation_columns].any(), axis=1)\n",
    "all_occupations_valid = check_occupation.all()  #<--- all values in the check are True\n",
    "\n",
    "all_occupations_valid\n"
   ]
  },
  {
   "cell_type": "code",
   "execution_count": 76,
   "metadata": {},
   "outputs": [
    {
     "data": {
      "text/plain": [
       "True"
      ]
     },
     "execution_count": 76,
     "metadata": {},
     "output_type": "execute_result"
    }
   ],
   "source": [
    "df.rename(columns={'Credit_Mix__': 'Credit_Mix_Unknown'}, inplace=True) #<--- some values in the Occupation column are missing, so I will replace them with 'Unknown'. I still want to keep unknown values as a separate category.\n",
    "df['Credit_Mix_Unknown'].describe()\n",
    "\n",
    "credit_mix_columns = [col for col in df.columns if col.startswith('Credit_Mix')] #<--- Here we check that when 'Credit_Mix_Unknown' is False, at least one other occupation column is True\n",
    "check_credit_mix = df[~df['Credit_Mix_Unknown']].apply(lambda x: x[credit_mix_columns].any(), axis=1)\n",
    "all_credit_mix_valid = check_credit_mix.all()  #<--- all values in the check are True\n",
    "\n",
    "all_credit_mix_valid\n"
   ]
  },
  {
   "cell_type": "markdown",
   "metadata": {},
   "source": [
    "**1. Data Cleaning and Preprocessing:** Final Data Cleaning Checks"
   ]
  },
  {
   "cell_type": "code",
   "execution_count": 77,
   "metadata": {},
   "outputs": [
    {
     "data": {
      "text/plain": [
       "Age                  7416\n",
       "Annual_Income       10500\n",
       "Num_of_Loan          7221\n",
       "Outstanding_Debt     1500\n",
       "Credit_Score        50000\n",
       "dtype: int64"
      ]
     },
     "execution_count": 77,
     "metadata": {},
     "output_type": "execute_result"
    }
   ],
   "source": [
    "missing_values = df.isnull().sum() #<--- checking for missing values\n",
    "missing_values[missing_values > 0]"
   ]
  },
  {
   "cell_type": "markdown",
   "metadata": {},
   "source": [
    "Consider the nature of Annual_Income. If it's reasonable to assume that missing values can be imputed based on other factors (like occupation or age), you might use mean/median imputation or a more sophisticated method like regression imputation.\n",
    "If missing values are randomly distributed, mean/median imputation could be a simple and effective approach."
   ]
  },
  {
   "cell_type": "code",
   "execution_count": 78,
   "metadata": {},
   "outputs": [
    {
     "data": {
      "text/plain": [
       "70"
      ]
     },
     "execution_count": 78,
     "metadata": {},
     "output_type": "execute_result"
    }
   ],
   "source": [
    " #<--- see if the same rows have missing values in both 'Num_of_Loan' and 'Outstanding_Debt'. Assuming that if a customer has no loans, they also have no outstanding debt.\n",
    "missing_both = df[df['Num_of_Loan'].isnull() & df['Outstanding_Debt'].isnull()]\n",
    "num_missing_both = len(missing_both)\n",
    "\n",
    "num_missing_both\n",
    "\n",
    "#Nope\n"
   ]
  },
  {
   "cell_type": "code",
   "execution_count": 79,
   "metadata": {},
   "outputs": [
    {
     "data": {
      "text/plain": [
       "721"
      ]
     },
     "execution_count": 79,
     "metadata": {},
     "output_type": "execute_result"
    }
   ],
   "source": [
    "#<--- see if the same rows have missing values in both 'Occupation_Unknown' and 'Annual_Income'. Assuming that if a customer has no job, they also have no income.\n",
    "missing_income_unknown_occupation = df[df['Occupation_Unknown'] & df['Annual_Income'].isnull()]\n",
    "num_missing_income_unknown_occupation = len(missing_income_unknown_occupation)\n",
    "\n",
    "num_missing_income_unknown_occupation\n",
    "\n",
    "#Nope"
   ]
  },
  {
   "cell_type": "code",
   "execution_count": 80,
   "metadata": {},
   "outputs": [
    {
     "data": {
      "image/png": "[encoded data removed]",
      "text/plain": [
       "<Figure size 640x480 with 1 Axes>"
      ]
     },
     "metadata": {},
     "output_type": "display_data"
    },
    {
     "name": "stdout",
     "output_type": "stream",
     "text": [
      "Skewness of Annual Income: 12.712928185422022\n"
     ]
    }
   ],
   "source": [
    "import seaborn as sns\n",
    "import matplotlib.pyplot as plt\n",
    "\n",
    "sns.histplot(df['Annual_Income'], kde=True)\n",
    "plt.title('Distribution of Annual Income')\n",
    "plt.xlabel('Annual Income')\n",
    "plt.show()\n",
    "\n",
    "\n",
    "skewness = df['Annual_Income'].skew()\n",
    "print(\"Skewness of Annual Income:\", skewness) #<---  If the distribution of Annual_Income is skewed, then median is a better choice than mean\n"
   ]
  },
  {
   "cell_type": "code",
   "execution_count": 81,
   "metadata": {},
   "outputs": [],
   "source": [
    "df['Annual_Income'].fillna(df['Annual_Income'].median(), inplace=True) #<--- imputing missing values with median\n",
    "df['Num_of_Loan'].fillna(0, inplace=True) #<--- imputing missing values with 0\n",
    "df['Outstanding_Debt'].fillna(0, inplace=True)  #<--- imputing missing values with 0\n"
   ]
  },
  {
   "cell_type": "code",
   "execution_count": 82,
   "metadata": {},
   "outputs": [
    {
     "data": {
      "text/plain": [
       "(2047    -500.0\n",
       " 86505   -500.0\n",
       " 640     -500.0\n",
       " 31015   -500.0\n",
       " 39311   -500.0\n",
       " Name: Age, dtype: float64,\n",
       " count    142584.000000\n",
       " mean        110.663363\n",
       " std         687.043231\n",
       " min        -500.000000\n",
       " 25%          24.000000\n",
       " 50%          33.000000\n",
       " 75%          42.000000\n",
       " max        8698.000000\n",
       " Name: Age, dtype: float64)"
      ]
     },
     "execution_count": 82,
     "metadata": {},
     "output_type": "execute_result"
    }
   ],
   "source": [
    "annual_income_descending = df.sort_values(by='Age', ascending=True) #<--- wanted to check for outliers. found out that it makes no sense\n",
    "annual_income_descending['Age'].head(), annual_income_descending['Age'].describe()"
   ]
  },
  {
   "cell_type": "code",
   "execution_count": 83,
   "metadata": {},
   "outputs": [
    {
     "data": {
      "text/plain": [
       "11859"
      ]
     },
     "execution_count": 83,
     "metadata": {},
     "output_type": "execute_result"
    }
   ],
   "source": [
    "df['Age'] = pd.to_numeric(df['Age'], errors='coerce')\n",
    "\n",
    "unreasonable_ages_mask = (df['Age'] < 18) | (df['Age'] > 100)\n",
    "unreasonable_ages = df[unreasonable_ages_mask]\n",
    "\n",
    "unreasonable_ages_count = unreasonable_ages.shape[0]\n",
    "unreasonable_ages_count\n"
   ]
  },
  {
   "cell_type": "code",
   "execution_count": 84,
   "metadata": {},
   "outputs": [
    {
     "data": {
      "image/png": "[encoded data removed]",
      "text/plain": [
       "<Figure size 640x480 with 1 Axes>"
      ]
     },
     "metadata": {},
     "output_type": "display_data"
    }
   ],
   "source": [
    "sns.histplot(df['Age'], kde=True)\n",
    "plt.show()"
   ]
  },
  {
   "cell_type": "code",
   "execution_count": 85,
   "metadata": {},
   "outputs": [
    {
     "data": {
      "text/plain": [
       "False"
      ]
     },
     "execution_count": 85,
     "metadata": {},
     "output_type": "execute_result"
    }
   ],
   "source": [
    "unreasonable_ages_mask = (df['Age'] < 18) | (df['Age'] > 100) #<--- looked like there still were legit values below 18, but we will focus on adults\n",
    "\n",
    "reasonable_age_median = df.loc[~unreasonable_ages_mask, 'Age'].median()\n",
    "\n",
    "df.loc[unreasonable_ages_mask, 'Age'] = reasonable_age_median\n",
    "\n",
    "post_imputation_check = df['Age'].between(18, 100).all()\n",
    "post_imputation_check\n"
   ]
  },
  {
   "cell_type": "code",
   "execution_count": 86,
   "metadata": {},
   "outputs": [
    {
     "data": {
      "image/png": "[encoded data removed]",
      "text/plain": [
       "<Figure size 640x480 with 1 Axes>"
      ]
     },
     "metadata": {},
     "output_type": "display_data"
    }
   ],
   "source": [
    "sns.histplot(df['Age'], kde=True) #<--- looks better\n",
    "plt.show()"
   ]
  },
  {
   "cell_type": "markdown",
   "metadata": {},
   "source": [
    "**2. Normalize or Standardize Numerical Data:**"
   ]
  },
  {
   "cell_type": "code",
   "execution_count": 96,
   "metadata": {},
   "outputs": [
    {
     "name": "stdout",
     "output_type": "stream",
     "text": [
      "scaling needed: ['Age', 'Annual_Income', 'Monthly_Inhand_Salary', 'Num_Bank_Accounts', 'Num_Credit_Card', 'Interest_Rate', 'Num_of_Loan', 'Delay_from_due_date', 'Num_of_Delayed_Payment', 'Num_Credit_Inquiries', 'Outstanding_Debt', 'Credit_Utilization_Ratio', 'Credit_History_Age', 'Total_EMI_per_month', 'Amount_invested_monthly', 'Monthly_Balance']\n"
     ]
    }
   ],
   "source": [
    "numeric_columns = df.select_dtypes(include=['int64', 'float64']).columns\n",
    "\n",
    "binary_columns = [col for col in df.columns if df[col].nunique() == 2]\n",
    "columns_for_scaling = [col for col in numeric_columns if col not in binary_columns]\n",
    "\n",
    "print(\"scaling needed:\", columns_for_scaling)\n"
   ]
  },
  {
   "cell_type": "code",
   "execution_count": 92,
   "metadata": {},
   "outputs": [],
   "source": [
    "from sklearn.preprocessing import StandardScaler\n",
    "scaler = StandardScaler()\n",
    "\n",
    "columns_to_scale = ['Age', 'Annual_Income', 'Monthly_Inhand_Salary', 'Num_Bank_Accounts',\n",
    "                    'Num_Credit_Card', 'Interest_Rate', 'Num_of_Loan', 'Delay_from_due_date',\n",
    "                    'Num_of_Delayed_Payment', 'Num_Credit_Inquiries', 'Outstanding_Debt',\n",
    "                    'Credit_Utilization_Ratio', 'Credit_History_Age', 'Total_EMI_per_month',\n",
    "                    'Amount_invested_monthly', 'Monthly_Balance']\n",
    "\n",
    "df_scaled = df.copy()\n",
    "df_scaled[columns_to_scale] = scaler.fit_transform(df[columns_to_scale])\n"
   ]
  },
  {
   "cell_type": "code",
   "execution_count": 94,
   "metadata": {},
   "outputs": [
    {
     "name": "stdout",
     "output_type": "stream",
     "text": [
      "Age                        -1.833864e-17\n",
      "Annual_Income              -2.377950e-17\n",
      "Monthly_Inhand_Salary       3.204074e-16\n",
      "Num_Bank_Accounts           1.503982e-18\n",
      "Num_Credit_Card            -1.136868e-17\n",
      "Interest_Rate               1.971756e-17\n",
      "Num_of_Loan                -1.155816e-17\n",
      "Delay_from_due_date        -9.838648e-17\n",
      "Num_of_Delayed_Payment      3.429553e-17\n",
      "Num_Credit_Inquiries       -1.091394e-16\n",
      "Outstanding_Debt           -3.260917e-16\n",
      "Credit_Utilization_Ratio    9.638986e-16\n",
      "Credit_History_Age          1.260977e-16\n",
      "Total_EMI_per_month         1.146342e-17\n",
      "Amount_invested_monthly    -6.840158e-17\n",
      "Monthly_Balance            -1.379400e-16\n",
      "dtype: float64\n",
      "Age                         1.000004\n",
      "Annual_Income               1.000003\n",
      "Monthly_Inhand_Salary       1.000003\n",
      "Num_Bank_Accounts           1.000003\n",
      "Num_Credit_Card             1.000003\n",
      "Interest_Rate               1.000003\n",
      "Num_of_Loan                 1.000003\n",
      "Delay_from_due_date         1.000003\n",
      "Num_of_Delayed_Payment      1.000003\n",
      "Num_Credit_Inquiries        1.000003\n",
      "Outstanding_Debt            1.000003\n",
      "Credit_Utilization_Ratio    1.000003\n",
      "Credit_History_Age          1.000003\n",
      "Total_EMI_per_month         1.000003\n",
      "Amount_invested_monthly     1.000003\n",
      "Monthly_Balance             1.000003\n",
      "dtype: float64\n"
     ]
    }
   ],
   "source": [
    "print(df_scaled[columns_to_scale].mean())\n",
    "print(df_scaled[columns_to_scale].std())   #<--- mean is 0 and std is 1. that's good"
   ]
  },
  {
   "cell_type": "code",
   "execution_count": 103,
   "metadata": {},
   "outputs": [
    {
     "data": {
      "text/plain": [
       "0    11.27\n",
       "0    11.27\n",
       "1    11.27\n",
       "1    13.27\n",
       "2        _\n",
       "Name: Changed_Credit_Limit, dtype: object"
      ]
     },
     "execution_count": 103,
     "metadata": {},
     "output_type": "execute_result"
    }
   ],
   "source": [
    "df_scaled['Changed_Credit_Limit'].head()"
   ]
  }
 ],
 "metadata": {
  "kernelspec": {
   "display_name": "Python 3",
   "language": "python",
   "name": "python3"
  },
  "language_info": {
   "codemirror_mode": {
    "name": "ipython",
    "version": 3
   },
   "file_extension": ".py",
   "mimetype": "text/x-python",
   "name": "python",
   "nbconvert_exporter": "python",
   "pygments_lexer": "ipython3",
   "version": "3.11.7"
  }
 },
 "nbformat": 4,
 "nbformat_minor": 2
}
